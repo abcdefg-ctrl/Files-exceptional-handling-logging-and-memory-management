{
  "nbformat": 4,
  "nbformat_minor": 0,
  "metadata": {
    "colab": {
      "provenance": [],
      "collapsed_sections": [
        "QOLiNDytbXqd",
        "YEjulgfdf-bh"
      ]
    },
    "kernelspec": {
      "name": "python3",
      "display_name": "Python 3"
    },
    "language_info": {
      "name": "python"
    }
  },
  "cells": [
    {
      "cell_type": "markdown",
      "source": [
        "#Files, exceptional handling, logging and memory management Questions\n"
      ],
      "metadata": {
        "id": "QOLiNDytbXqd"
      }
    },
    {
      "cell_type": "markdown",
      "source": [
        "1. What is the difference between interpreted and compiled languages?\n",
        "\n",
        " ->\n",
        "*   Interpreted: Code is executed line by line (e.g., Python). Slower but easier to debug.\n",
        "*   Compiled: Translates entire code into machine language before execution (e.g., C++). Faster but requires recompilation after changes.\n",
        "\n",
        "\n",
        "\n"
      ],
      "metadata": {
        "id": "gz_7PLaobf9h"
      }
    },
    {
      "cell_type": "markdown",
      "source": [
        "2. What is exception handling in Python?\n",
        "\n",
        "   -> A way to handle runtime errors gracefully using try, except, else, and finally blocks."
      ],
      "metadata": {
        "id": "huHh0lD0coQU"
      }
    },
    {
      "cell_type": "markdown",
      "source": [
        "3. What is the purpose of the finally block in exception handling?\n",
        "\n",
        "   -> Always executes, whether an exception occurs or not. Used for cleanup like closing files or releasing resources.\n"
      ],
      "metadata": {
        "id": "JtMM86WOcre8"
      }
    },
    {
      "cell_type": "markdown",
      "source": [
        "4. What is logging in Python?\n",
        "\n",
        "  -> Logging records events and errors during program execution. Helps with debugging and monitoring.\n"
      ],
      "metadata": {
        "id": "wWr1okyVcrXS"
      }
    },
    {
      "cell_type": "markdown",
      "source": [
        "5. What is the significance of the __del__ method in Python?\n",
        "\n",
        "  -> It’s a destructor method called when an object is about to be destroyed. Used for cleanup tasks."
      ],
      "metadata": {
        "id": "1jU-zIpScrOf"
      }
    },
    {
      "cell_type": "markdown",
      "source": [
        "6. What is the difference between import and from ... import in Python?\n",
        "\n",
        "\n",
        "\n",
        "*   import math: Use with math.pi.\n",
        "*   from math import pi: Use pi directly.\n",
        "\n",
        "\n"
      ],
      "metadata": {
        "id": "9M_gmOQNcrEw"
      }
    },
    {
      "cell_type": "markdown",
      "source": [
        "7. How can you handle multiple exceptions in Python?\n",
        "   \n",
        "   ->"
      ],
      "metadata": {
        "id": "DjwVyVGjechv"
      }
    },
    {
      "cell_type": "code",
      "source": [
        "#7\n",
        "'''\n",
        "try:\n",
        "    # code\n",
        "except (TypeError, ValueError) as e:\n",
        "    print(e)\n",
        "'''"
      ],
      "metadata": {
        "colab": {
          "base_uri": "https://localhost:8080/",
          "height": 53
        },
        "id": "9DnLSts7eCds",
        "outputId": "7ca2713e-5547-4a72-9b70-84932ef5335a"
      },
      "execution_count": 1,
      "outputs": [
        {
          "output_type": "stream",
          "name": "stdout",
          "text": [
            "Object `Python` not found.\n"
          ]
        },
        {
          "output_type": "execute_result",
          "data": {
            "text/plain": [
              "'\\ntry:\\n    # code\\nexcept (TypeError, ValueError) as e:\\n    print(e)\\n'"
            ],
            "application/vnd.google.colaboratory.intrinsic+json": {
              "type": "string"
            }
          },
          "metadata": {},
          "execution_count": 1
        }
      ]
    },
    {
      "cell_type": "markdown",
      "source": [
        "8. What is the purpose of the with statement when handling files in Python?\n",
        "\n",
        "  -> Automatically handles file closing, even if an error occurs.\n"
      ],
      "metadata": {
        "id": "ItHZguIScq5c"
      }
    },
    {
      "cell_type": "code",
      "source": [
        "#8\n",
        "'''\n",
        "with open('file.txt') as f:\n",
        "    data = f.read()\n",
        "'''"
      ],
      "metadata": {
        "colab": {
          "base_uri": "https://localhost:8080/",
          "height": 36
        },
        "id": "-DVqDC74e16F",
        "outputId": "9cc0579c-e398-447a-97c5-356e7442371d"
      },
      "execution_count": 2,
      "outputs": [
        {
          "output_type": "execute_result",
          "data": {
            "text/plain": [
              "\"\\nwith open('file.txt') as f:\\n    data = f.read()\\n\""
            ],
            "application/vnd.google.colaboratory.intrinsic+json": {
              "type": "string"
            }
          },
          "metadata": {},
          "execution_count": 2
        }
      ]
    },
    {
      "cell_type": "markdown",
      "source": [
        "9. What is the difference between multithreading and multiprocessing?\n",
        "\n",
        "\n",
        "\n",
        "*   Multithreading: Multiple threads in one process, shared memory. Good for I/O tasks.\n",
        "*   Multiprocessing: Separate processes, independent memory. Better for CPU-bound tasks.\n",
        "\n"
      ],
      "metadata": {
        "id": "_DnEDUGIcqty"
      }
    },
    {
      "cell_type": "markdown",
      "source": [
        "10. What are the advantages of using logging in a program?\n",
        "\n",
        "\n",
        "\n",
        "*   Keeps track of events\n",
        "\n",
        "*   Helps with debugging\n",
        "*   Customizable log levels and outputs\n",
        "\n",
        "\n"
      ],
      "metadata": {
        "id": "9XrU217ScqhO"
      }
    },
    {
      "cell_type": "markdown",
      "source": [
        "11. What is memory management in Python?\n",
        "\n",
        "   -> Automatically done using reference counting and garbage collection to reclaim unused memory.\n"
      ],
      "metadata": {
        "id": "bXqJjHVdcpIq"
      }
    },
    {
      "cell_type": "markdown",
      "source": [
        "12. What are the basic steps involved in exception handling in Python?\n",
        "\n",
        "\n",
        "\n",
        "*   try: risky code\n",
        "\n",
        "*   except: handle exception\n",
        "*   else: if no exception\n",
        "\n",
        "\n",
        "*   finally: always runs\n",
        "\n"
      ],
      "metadata": {
        "id": "Zk5dVj2Wf8qL"
      }
    },
    {
      "cell_type": "markdown",
      "source": [
        "13. Why is memory management important in Python?\n",
        "\n",
        "   -> Ensures efficient resource use and prevents memory leaks and program crashes.\n"
      ],
      "metadata": {
        "id": "3PP5sPtZf9y_"
      }
    },
    {
      "cell_type": "markdown",
      "source": [
        "14. What is the role of try and except in exception handling?\n",
        "\n",
        "\n",
        "\n",
        "*   try: Code that might raise an error\n",
        "*   except: Catch and handle the error\n",
        "\n"
      ],
      "metadata": {
        "id": "kKmV7zdTgAS0"
      }
    },
    {
      "cell_type": "markdown",
      "source": [
        "15. How does Python's garbage collection system work?\n",
        "\n",
        "   -> Uses reference counting and a cyclic garbage collector to detect and free memory.\n"
      ],
      "metadata": {
        "id": "ZpIm1nrPgAOv"
      }
    },
    {
      "cell_type": "markdown",
      "source": [
        "16. What is the purpose of the else block in exception handling?\n",
        "\n",
        "   -> Executes if the try block doesn't raise any exception."
      ],
      "metadata": {
        "id": "23ukmsyxgAJ2"
      }
    },
    {
      "cell_type": "markdown",
      "source": [
        "17. What are the common logging levels in Python?\n",
        "\n",
        "\n",
        "\n",
        "*   DEBUG\n",
        "\n",
        "*   INFO\n",
        "*   INFO\n",
        "\n",
        "\n",
        "*   ERROR\n",
        "\n",
        "\n",
        "*   CRITICAL\n",
        "\n",
        "\n",
        "\n",
        "\n"
      ],
      "metadata": {
        "id": "4qvfVgKRgAFp"
      }
    },
    {
      "cell_type": "markdown",
      "source": [
        "18. What is the difference between os.fork() and multiprocessing in Python?\n",
        "\n",
        "\n",
        "\n",
        "*   os.fork(): Unix only, low-level.\n",
        "*  multiprocessing: Cross-platform, high-level, safer to use.\n",
        "\n"
      ],
      "metadata": {
        "id": "NnAwezgWgABW"
      }
    },
    {
      "cell_type": "markdown",
      "source": [
        "19. What is the importance of closing a file in Python?\n",
        "\n",
        "   -> Releases system resources and ensures all data is written.\n"
      ],
      "metadata": {
        "id": "aWC7dSyjf_8w"
      }
    },
    {
      "cell_type": "markdown",
      "source": [
        "20.  What is the difference between file.read() and file.readline() in Python?\n",
        "\n",
        "\n",
        "\n",
        "*   read(): Reads full file content.\n",
        "*   readline(): Reads one line at a time.\n",
        "\n"
      ],
      "metadata": {
        "id": "s2eDniq5f_3W"
      }
    },
    {
      "cell_type": "markdown",
      "source": [
        "21. What is the logging module in Python used for?\n",
        "\n",
        "  -> Used for writing logs to files/console for debugging and tracking execution.\n"
      ],
      "metadata": {
        "id": "1oTkvi0Ff_ya"
      }
    },
    {
      "cell_type": "markdown",
      "source": [
        "22. What is the os module in Python used for in file handling?\n",
        "\n",
        "   -> Performs operations like checking file existence, path manipulation, and deleting files.\n"
      ],
      "metadata": {
        "id": "6ei6Bnw5f_t4"
      }
    },
    {
      "cell_type": "markdown",
      "source": [
        "23. What are the challenges associated with memory management in Python?\n",
        "\n",
        "\n",
        "\n",
        "*   Cyclic references\n",
        "\n",
        "*   High memory usage\n",
        "*   Difficult manual optimization\n",
        "\n",
        "\n"
      ],
      "metadata": {
        "id": "UhZnJ8Chf_o5"
      }
    },
    {
      "cell_type": "markdown",
      "source": [
        "24. How do you raise an exception manually in Python?\n",
        "\n",
        "  ->"
      ],
      "metadata": {
        "id": "27dc9RG0f_kI"
      }
    },
    {
      "cell_type": "code",
      "source": [
        "#24.\n",
        "'''\n",
        "raise ValueError(\"Invalid value\")\n",
        "'''"
      ],
      "metadata": {
        "colab": {
          "base_uri": "https://localhost:8080/",
          "height": 36
        },
        "id": "Bs7JDZNfjBER",
        "outputId": "0ce2f46b-6398-41bd-96b5-5e7f03c26a34"
      },
      "execution_count": 3,
      "outputs": [
        {
          "output_type": "execute_result",
          "data": {
            "text/plain": [
              "'\\nraise ValueError(\"Invalid value\")\\n'"
            ],
            "application/vnd.google.colaboratory.intrinsic+json": {
              "type": "string"
            }
          },
          "metadata": {},
          "execution_count": 3
        }
      ]
    },
    {
      "cell_type": "markdown",
      "source": [
        "25. Why is it important to use multithreading in certain applications?\n",
        "\n",
        "   -> Helps in improving performance in I/O-bound tasks like downloading, file operations, etc.\n"
      ],
      "metadata": {
        "id": "jxrPoTlWf_cp"
      }
    },
    {
      "cell_type": "markdown",
      "source": [
        "#Practical Questions"
      ],
      "metadata": {
        "id": "YEjulgfdf-bh"
      }
    },
    {
      "cell_type": "code",
      "execution_count": 4,
      "metadata": {
        "colab": {
          "base_uri": "https://localhost:8080/",
          "height": 36
        },
        "id": "YcOk9EhGbIxs",
        "outputId": "195bc094-47a6-4db5-feb7-21109b387432"
      },
      "outputs": [
        {
          "output_type": "execute_result",
          "data": {
            "text/plain": [
              "'\\nwith open(\"output.txt\", \"w\") as file:\\n    file.write(\"Hello, this is a test string!\")\\n'"
            ],
            "application/vnd.google.colaboratory.intrinsic+json": {
              "type": "string"
            }
          },
          "metadata": {},
          "execution_count": 4
        }
      ],
      "source": [
        "#1. How can you open a file for writing in Python and write a string to it?\n",
        "'''\n",
        "with open(\"output.txt\", \"w\") as file:\n",
        "    file.write(\"Hello, this is a test string!\")\n",
        "'''"
      ]
    },
    {
      "cell_type": "code",
      "source": [
        "#2. Write a Python program to read the contents of a file and print each line.\n",
        "'''\n",
        "with open(\"output.txt\", \"r\") as file:\n",
        "    for line in file:\n",
        "        print(line.strip())\n",
        "'''"
      ],
      "metadata": {
        "colab": {
          "base_uri": "https://localhost:8080/",
          "height": 36
        },
        "id": "9Bf7qG8ukbEj",
        "outputId": "125b90f9-d9c0-4496-e526-b3057b6abe88"
      },
      "execution_count": 5,
      "outputs": [
        {
          "output_type": "execute_result",
          "data": {
            "text/plain": [
              "'\\nwith open(\"output.txt\", \"r\") as file:\\n    for line in file:\\n        print(line.strip())\\n'"
            ],
            "application/vnd.google.colaboratory.intrinsic+json": {
              "type": "string"
            }
          },
          "metadata": {},
          "execution_count": 5
        }
      ]
    },
    {
      "cell_type": "code",
      "source": [
        "#3. How would you handle a case where the file doesn't exist while trying to open it for reading?\n",
        "'''\n",
        "try:\n",
        "    with open(\"nonexistent.txt\", \"r\") as file:\n",
        "        print(file.read())\n",
        "except FileNotFoundError:\n",
        "    print(\"File does not exist.\")\n",
        "'''"
      ],
      "metadata": {
        "colab": {
          "base_uri": "https://localhost:8080/",
          "height": 36
        },
        "id": "XwvtrlAXksW_",
        "outputId": "f6bbd090-40e3-4455-c3ed-a750f0f78bc1"
      },
      "execution_count": 6,
      "outputs": [
        {
          "output_type": "execute_result",
          "data": {
            "text/plain": [
              "'\\ntry:\\n    with open(\"nonexistent.txt\", \"r\") as file:\\n        print(file.read())\\nexcept FileNotFoundError:\\n    print(\"File does not exist.\")\\n'"
            ],
            "application/vnd.google.colaboratory.intrinsic+json": {
              "type": "string"
            }
          },
          "metadata": {},
          "execution_count": 6
        }
      ]
    },
    {
      "cell_type": "code",
      "source": [
        "#4. Write a Python script that reads from one file and writes its content to another file.\n",
        "'''\n",
        "with open(\"source.txt\", \"r\") as src, open(\"dest.txt\", \"w\") as dest:\n",
        "    dest.write(src.read())\n",
        "'''"
      ],
      "metadata": {
        "colab": {
          "base_uri": "https://localhost:8080/",
          "height": 36
        },
        "id": "XvVvKLBZksLZ",
        "outputId": "f6e8edb4-1f7d-47e4-bfe8-3a94753530cb"
      },
      "execution_count": 7,
      "outputs": [
        {
          "output_type": "execute_result",
          "data": {
            "text/plain": [
              "'\\nwith open(\"source.txt\", \"r\") as src, open(\"dest.txt\", \"w\") as dest:\\n    dest.write(src.read())\\n'"
            ],
            "application/vnd.google.colaboratory.intrinsic+json": {
              "type": "string"
            }
          },
          "metadata": {},
          "execution_count": 7
        }
      ]
    },
    {
      "cell_type": "code",
      "source": [
        "#5. How would you catch and handle division by zero error in Python?\n",
        "'''\n",
        "try:\n",
        "    result = 10 / 0\n",
        "except ZeroDivisionError:\n",
        "    print(\"You cannot divide by zero.\")\n",
        "'''"
      ],
      "metadata": {
        "colab": {
          "base_uri": "https://localhost:8080/",
          "height": 36
        },
        "id": "KEuTnOGFkr9Z",
        "outputId": "88f34cc7-451d-43bb-aa89-666acaf80a70"
      },
      "execution_count": 8,
      "outputs": [
        {
          "output_type": "execute_result",
          "data": {
            "text/plain": [
              "'\\ntry:\\n    result = 10 / 0\\nexcept ZeroDivisionError:\\n    print(\"You cannot divide by zero.\")\\n'"
            ],
            "application/vnd.google.colaboratory.intrinsic+json": {
              "type": "string"
            }
          },
          "metadata": {},
          "execution_count": 8
        }
      ]
    },
    {
      "cell_type": "code",
      "source": [
        "#6. Write a Python program that logs an error message to a log file when a division by zero exception occurs.\n",
        "'''\n",
        "import logging\n",
        "\n",
        "logging.basicConfig(filename=\"error.log\", level=logging.ERROR)\n",
        "try:\n",
        "    result = 10 / 0\n",
        "except ZeroDivisionError as e:\n",
        "    logging.error(f\"Error occurred: {e}\")\n",
        "'''"
      ],
      "metadata": {
        "colab": {
          "base_uri": "https://localhost:8080/",
          "height": 53
        },
        "id": "4q7PJSb2krwq",
        "outputId": "14ac8ed2-9cef-46ae-b77f-b400ff1e245d"
      },
      "execution_count": 9,
      "outputs": [
        {
          "output_type": "execute_result",
          "data": {
            "text/plain": [
              "'\\nimport logging\\n\\nlogging.basicConfig(filename=\"error.log\", level=logging.ERROR)\\ntry:\\n    result = 10 / 0\\nexcept ZeroDivisionError as e:\\n    logging.error(f\"Error occurred: {e}\")\\n'"
            ],
            "application/vnd.google.colaboratory.intrinsic+json": {
              "type": "string"
            }
          },
          "metadata": {},
          "execution_count": 9
        }
      ]
    },
    {
      "cell_type": "code",
      "source": [
        "#7. How do you log information at different levels (INFO, ERROR, WARNING) in Python using the logging module?\n",
        "'''\n",
        "import logging\n",
        "\n",
        "logging.basicConfig(level=logging.DEBUG)\n",
        "logging.info(\"This is an info message\")\n",
        "logging.warning(\"This is a warning\")\n",
        "logging.error(\"This is an error\")\n",
        "'''"
      ],
      "metadata": {
        "colab": {
          "base_uri": "https://localhost:8080/",
          "height": 36
        },
        "id": "r6iAmHcokrfu",
        "outputId": "d2f5e98d-3022-4e1d-941b-4cdfd8716e2c"
      },
      "execution_count": 10,
      "outputs": [
        {
          "output_type": "execute_result",
          "data": {
            "text/plain": [
              "'\\nimport logging\\n\\nlogging.basicConfig(level=logging.DEBUG)\\nlogging.info(\"This is an info message\")\\nlogging.warning(\"This is a warning\")\\nlogging.error(\"This is an error\")\\n'"
            ],
            "application/vnd.google.colaboratory.intrinsic+json": {
              "type": "string"
            }
          },
          "metadata": {},
          "execution_count": 10
        }
      ]
    },
    {
      "cell_type": "code",
      "source": [
        "#8. Write a program to handle a file opening error using exception handling.\n",
        "'''\n",
        "try:\n",
        "    with open(\"missing.txt\", \"r\") as f:\n",
        "        print(f.read())\n",
        "except FileNotFoundError:\n",
        "    print(\"File not found!\")\n",
        "'''"
      ],
      "metadata": {
        "colab": {
          "base_uri": "https://localhost:8080/",
          "height": 36
        },
        "id": "NwP7s92fl7ku",
        "outputId": "37c9483f-8ddc-428d-bad8-282ae06c0165"
      },
      "execution_count": 11,
      "outputs": [
        {
          "output_type": "execute_result",
          "data": {
            "text/plain": [
              "'\\ntry:\\n    with open(\"missing.txt\", \"r\") as f:\\n        print(f.read())\\nexcept FileNotFoundError:\\n    print(\"File not found!\")\\n'"
            ],
            "application/vnd.google.colaboratory.intrinsic+json": {
              "type": "string"
            }
          },
          "metadata": {},
          "execution_count": 11
        }
      ]
    },
    {
      "cell_type": "code",
      "source": [
        "#9. How can you read a file line by line and store its content in a list in Python?\n",
        "'''\n",
        "lines = []\n",
        "with open(\"output.txt\", \"r\") as file:\n",
        "    lines = file.readlines()\n",
        "print(lines)\n",
        "'''"
      ],
      "metadata": {
        "colab": {
          "base_uri": "https://localhost:8080/",
          "height": 36
        },
        "id": "-xzQtIhWl7gR",
        "outputId": "64c97c0b-1a78-4ccc-972b-7e238cf17ba0"
      },
      "execution_count": 12,
      "outputs": [
        {
          "output_type": "execute_result",
          "data": {
            "text/plain": [
              "'\\nlines = []\\nwith open(\"output.txt\", \"r\") as file:\\n    lines = file.readlines()\\nprint(lines)\\n'"
            ],
            "application/vnd.google.colaboratory.intrinsic+json": {
              "type": "string"
            }
          },
          "metadata": {},
          "execution_count": 12
        }
      ]
    },
    {
      "cell_type": "code",
      "source": [
        "#10. How can you append data to an existing file in Python?\n",
        "'''\n",
        "with open(\"output.txt\", \"a\") as file:\n",
        "    file.write(\"\\nAppending this line.\")\n",
        "'''"
      ],
      "metadata": {
        "colab": {
          "base_uri": "https://localhost:8080/",
          "height": 36
        },
        "id": "Sg4BfLmWl7cP",
        "outputId": "1c4053c5-4150-4dc1-931d-37829a175c5a"
      },
      "execution_count": 13,
      "outputs": [
        {
          "output_type": "execute_result",
          "data": {
            "text/plain": [
              "'\\nwith open(\"output.txt\", \"a\") as file:\\n    file.write(\"\\nAppending this line.\")\\n'"
            ],
            "application/vnd.google.colaboratory.intrinsic+json": {
              "type": "string"
            }
          },
          "metadata": {},
          "execution_count": 13
        }
      ]
    },
    {
      "cell_type": "code",
      "source": [
        "#11.  Write a Python program that uses a try-except block to handle an error when attempting to access a dictionary key that doesn't exist?\n",
        "'''\n",
        "data = {\"name\": \"Alice\"}\n",
        "try:\n",
        "    print(data[\"age\"])\n",
        "except KeyError:\n",
        "    print(\"Key not found!\")\n",
        "'''"
      ],
      "metadata": {
        "colab": {
          "base_uri": "https://localhost:8080/",
          "height": 36
        },
        "id": "CXjcZp-Xl7YC",
        "outputId": "0f72b25f-655a-4dc1-cbdb-dd225df9aae1"
      },
      "execution_count": 14,
      "outputs": [
        {
          "output_type": "execute_result",
          "data": {
            "text/plain": [
              "'\\ndata = {\"name\": \"Alice\"}\\ntry:\\n    print(data[\"age\"])\\nexcept KeyError:\\n    print(\"Key not found!\")\\n'"
            ],
            "application/vnd.google.colaboratory.intrinsic+json": {
              "type": "string"
            }
          },
          "metadata": {},
          "execution_count": 14
        }
      ]
    },
    {
      "cell_type": "code",
      "source": [
        "#12.  Write a program that demonstrates using multiple except blocks to handle different types of exceptions.\n",
        "'''\n",
        "try:\n",
        "    value = int(\"text\")\n",
        "    result = 10 / 0\n",
        "except ValueError:\n",
        "    print(\"Invalid conversion.\")\n",
        "except ZeroDivisionError:\n",
        "    print(\"Can't divide by zero.\")\n",
        "'''"
      ],
      "metadata": {
        "colab": {
          "base_uri": "https://localhost:8080/",
          "height": 36
        },
        "id": "tvRn_Qtql7T1",
        "outputId": "c6e50d1a-b5a1-408e-bad0-926b6558eb06"
      },
      "execution_count": 15,
      "outputs": [
        {
          "output_type": "execute_result",
          "data": {
            "text/plain": [
              "'\\ntry:\\n    value = int(\"text\")\\n    result = 10 / 0\\nexcept ValueError:\\n    print(\"Invalid conversion.\")\\nexcept ZeroDivisionError:\\n    print(\"Can\\'t divide by zero.\")\\n'"
            ],
            "application/vnd.google.colaboratory.intrinsic+json": {
              "type": "string"
            }
          },
          "metadata": {},
          "execution_count": 15
        }
      ]
    },
    {
      "cell_type": "code",
      "source": [
        "#13. How would you check if a file exists before attempting to read it in Python?\n",
        "'''\n",
        "import os\n",
        "\n",
        "if os.path.exists(\"output.txt\"):\n",
        "    print(\"File exists.\")\n",
        "else:\n",
        "    print(\"File not found.\")\n",
        "'''"
      ],
      "metadata": {
        "colab": {
          "base_uri": "https://localhost:8080/",
          "height": 36
        },
        "id": "i2gHvYoAl7QS",
        "outputId": "310a6987-adcc-4d9d-84f8-a4c8d24ea278"
      },
      "execution_count": 16,
      "outputs": [
        {
          "output_type": "execute_result",
          "data": {
            "text/plain": [
              "'\\nimport os\\n\\nif os.path.exists(\"output.txt\"):\\n    print(\"File exists.\")\\nelse:\\n    print(\"File not found.\")\\n'"
            ],
            "application/vnd.google.colaboratory.intrinsic+json": {
              "type": "string"
            }
          },
          "metadata": {},
          "execution_count": 16
        }
      ]
    },
    {
      "cell_type": "code",
      "source": [
        "#14. Write a program that uses the logging module to log both informational and error messages.\n",
        "'''\n",
        "import logging\n",
        "\n",
        "logging.basicConfig(filename=\"app.log\", level=logging.DEBUG)\n",
        "logging.info(\"Program started\")\n",
        "try:\n",
        "    x = 1 / 0\n",
        "except ZeroDivisionError:\n",
        "    logging.error(\"Division by zero\")\n",
        "'''"
      ],
      "metadata": {
        "colab": {
          "base_uri": "https://localhost:8080/",
          "height": 53
        },
        "id": "eMo8ZDxZl7Mi",
        "outputId": "511d4e65-2aa3-4268-bc10-97717e52be6c"
      },
      "execution_count": 17,
      "outputs": [
        {
          "output_type": "execute_result",
          "data": {
            "text/plain": [
              "'\\nimport logging\\n\\nlogging.basicConfig(filename=\"app.log\", level=logging.DEBUG)\\nlogging.info(\"Program started\")\\ntry:\\n    x = 1 / 0\\nexcept ZeroDivisionError:\\n    logging.error(\"Division by zero\")\\n'"
            ],
            "application/vnd.google.colaboratory.intrinsic+json": {
              "type": "string"
            }
          },
          "metadata": {},
          "execution_count": 17
        }
      ]
    },
    {
      "cell_type": "code",
      "source": [
        "#15. Write a Python program that prints the content of a file and handles the case when the file is empty.\n",
        "'''\n",
        "with open(\"output.txt\", \"r\") as file:\n",
        "    content = file.read()\n",
        "    if content:\n",
        "        print(content)\n",
        "    else:\n",
        "        print(\"File is empty.\")\n",
        "'''"
      ],
      "metadata": {
        "colab": {
          "base_uri": "https://localhost:8080/",
          "height": 36
        },
        "id": "5bVAlanQl7Ia",
        "outputId": "7539fc3a-df3d-4947-c355-fc5828819a3e"
      },
      "execution_count": 18,
      "outputs": [
        {
          "output_type": "execute_result",
          "data": {
            "text/plain": [
              "'\\nwith open(\"output.txt\", \"r\") as file:\\n    content = file.read()\\n    if content:\\n        print(content)\\n    else:\\n        print(\"File is empty.\")\\n'"
            ],
            "application/vnd.google.colaboratory.intrinsic+json": {
              "type": "string"
            }
          },
          "metadata": {},
          "execution_count": 18
        }
      ]
    },
    {
      "cell_type": "code",
      "source": [
        "#16. Demonstrate how to use memory profiling to check the memory usage of a small program.\n",
        "'''\n",
        "# Install memory_profiler first: pip install memory-profiler\n",
        "from memory_profiler import profile\n",
        "\n",
        "@profile\n",
        "def test():\n",
        "    a = [i for i in range(10000)]\n",
        "\n",
        "test()\n",
        "'''"
      ],
      "metadata": {
        "colab": {
          "base_uri": "https://localhost:8080/",
          "height": 36
        },
        "id": "-kNSWCNYl7ER",
        "outputId": "977b1165-50b0-4134-825a-f63153742d54"
      },
      "execution_count": 19,
      "outputs": [
        {
          "output_type": "execute_result",
          "data": {
            "text/plain": [
              "'\\n# Install memory_profiler first: pip install memory-profiler\\nfrom memory_profiler import profile\\n\\n@profile\\ndef test():\\n    a = [i for i in range(10000)]\\n\\ntest()\\n'"
            ],
            "application/vnd.google.colaboratory.intrinsic+json": {
              "type": "string"
            }
          },
          "metadata": {},
          "execution_count": 19
        }
      ]
    },
    {
      "cell_type": "code",
      "source": [
        "#17. Write a Python program to create and write a list of numbers to a file, one number per line.\n",
        "'''\n",
        "with open(\"numbers.txt\", \"w\") as file:\n",
        "    for i in range(1, 11):\n",
        "        file.write(f\"{i}\\n\")\n",
        "'''"
      ],
      "metadata": {
        "colab": {
          "base_uri": "https://localhost:8080/",
          "height": 36
        },
        "id": "Ug6oIGOZl6_G",
        "outputId": "d3eea987-108d-4540-edba-9441a4452701"
      },
      "execution_count": 20,
      "outputs": [
        {
          "output_type": "execute_result",
          "data": {
            "text/plain": [
              "'\\nwith open(\"numbers.txt\", \"w\") as file:\\n    for i in range(1, 11):\\n        file.write(f\"{i}\\n\")\\n'"
            ],
            "application/vnd.google.colaboratory.intrinsic+json": {
              "type": "string"
            }
          },
          "metadata": {},
          "execution_count": 20
        }
      ]
    },
    {
      "cell_type": "code",
      "source": [
        "#18. How would you implement a basic logging setup that logs to a file with rotation after 1MB?\n",
        "'''\n",
        "import logging\n",
        "from logging.handlers import RotatingFileHandler\n",
        "\n",
        "handler = RotatingFileHandler(\"rotating.log\", maxBytes=1024*1024, backupCount=3)\n",
        "logging.basicConfig(handlers=[handler], level=logging.INFO)\n",
        "logging.info(\"This is a test log entry.\")\n",
        "'''"
      ],
      "metadata": {
        "colab": {
          "base_uri": "https://localhost:8080/",
          "height": 53
        },
        "id": "4ixG2v2Zl647",
        "outputId": "1fba6423-64eb-4536-8cd5-ecf6c049f712"
      },
      "execution_count": 21,
      "outputs": [
        {
          "output_type": "execute_result",
          "data": {
            "text/plain": [
              "'\\nimport logging\\nfrom logging.handlers import RotatingFileHandler\\n\\nhandler = RotatingFileHandler(\"rotating.log\", maxBytes=1024*1024, backupCount=3)\\nlogging.basicConfig(handlers=[handler], level=logging.INFO)\\nlogging.info(\"This is a test log entry.\")\\n'"
            ],
            "application/vnd.google.colaboratory.intrinsic+json": {
              "type": "string"
            }
          },
          "metadata": {},
          "execution_count": 21
        }
      ]
    },
    {
      "cell_type": "code",
      "source": [
        "#19. Write a program that handles both IndexError and KeyError using a try-except block.\n",
        "'''\n",
        "try:\n",
        "    lst = [1, 2, 3]\n",
        "    print(lst[5])\n",
        "    d = {}\n",
        "    print(d[\"key\"])\n",
        "except IndexError:\n",
        "    print(\"Index out of range.\")\n",
        "except KeyError:\n",
        "    print(\"Key does not exist.\")\n",
        "'''"
      ],
      "metadata": {
        "colab": {
          "base_uri": "https://localhost:8080/",
          "height": 53
        },
        "id": "SNcoMGjXl6xE",
        "outputId": "db4ec9af-fb13-4a52-aaf8-512e644408e1"
      },
      "execution_count": 22,
      "outputs": [
        {
          "output_type": "execute_result",
          "data": {
            "text/plain": [
              "'\\ntry:\\n    lst = [1, 2, 3]\\n    print(lst[5])\\n    d = {}\\n    print(d[\"key\"])\\nexcept IndexError:\\n    print(\"Index out of range.\")\\nexcept KeyError:\\n    print(\"Key does not exist.\")\\n'"
            ],
            "application/vnd.google.colaboratory.intrinsic+json": {
              "type": "string"
            }
          },
          "metadata": {},
          "execution_count": 22
        }
      ]
    },
    {
      "cell_type": "code",
      "source": [
        "#20. How would you open a file and read its contents using a context manager in Python?\n",
        "'''\n",
        "with open(\"output.txt\", \"r\") as file:\n",
        "    content = file.read()\n",
        "    print(content)\n",
        "'''"
      ],
      "metadata": {
        "colab": {
          "base_uri": "https://localhost:8080/",
          "height": 36
        },
        "id": "0cuVhauCl6mw",
        "outputId": "e329dbde-b6fa-4268-abf5-7b851d3c35d8"
      },
      "execution_count": 23,
      "outputs": [
        {
          "output_type": "execute_result",
          "data": {
            "text/plain": [
              "'\\nwith open(\"output.txt\", \"r\") as file:\\n    content = file.read()\\n    print(content)\\n'"
            ],
            "application/vnd.google.colaboratory.intrinsic+json": {
              "type": "string"
            }
          },
          "metadata": {},
          "execution_count": 23
        }
      ]
    },
    {
      "cell_type": "code",
      "source": [
        "#21. Write a Python program that reads a file and prints the number of occurrences of a specific word.\n",
        "'''\n",
        "word = \"Python\"\n",
        "count = 0\n",
        "with open(\"sample.txt\", \"r\") as file:\n",
        "    for line in file:\n",
        "        count += line.count(word)\n",
        "print(f\"'{word}' found {count} times.\")\n",
        "'''"
      ],
      "metadata": {
        "colab": {
          "base_uri": "https://localhost:8080/",
          "height": 36
        },
        "id": "CwaG3X9SrFzT",
        "outputId": "4d649728-d54a-4085-9144-20221356cf2e"
      },
      "execution_count": 24,
      "outputs": [
        {
          "output_type": "execute_result",
          "data": {
            "text/plain": [
              "'\\nword = \"Python\"\\ncount = 0\\nwith open(\"sample.txt\", \"r\") as file:\\n    for line in file:\\n        count += line.count(word)\\nprint(f\"\\'{word}\\' found {count} times.\")\\n'"
            ],
            "application/vnd.google.colaboratory.intrinsic+json": {
              "type": "string"
            }
          },
          "metadata": {},
          "execution_count": 24
        }
      ]
    },
    {
      "cell_type": "code",
      "source": [
        "#22. How can you check if a file is empty before attempting to read its contents?\n",
        "'''\n",
        "import os\n",
        "\n",
        "if os.path.getsize(\"output.txt\") == 0:\n",
        "    print(\"File is empty.\")\n",
        "else:\n",
        "    print(\"File has content.\")\n",
        "'''"
      ],
      "metadata": {
        "colab": {
          "base_uri": "https://localhost:8080/",
          "height": 36
        },
        "id": "5QYOSFzbrFoG",
        "outputId": "829c177f-8e5e-4375-9ea5-799c81073e95"
      },
      "execution_count": 25,
      "outputs": [
        {
          "output_type": "execute_result",
          "data": {
            "text/plain": [
              "'\\nimport os\\n\\nif os.path.getsize(\"output.txt\") == 0:\\n    print(\"File is empty.\")\\nelse:\\n    print(\"File has content.\")\\n'"
            ],
            "application/vnd.google.colaboratory.intrinsic+json": {
              "type": "string"
            }
          },
          "metadata": {},
          "execution_count": 25
        }
      ]
    },
    {
      "cell_type": "code",
      "source": [
        "#23. Write a Python program that writes to a log file when an error occurs during file handling.\n",
        "'''\n",
        "import logging\n",
        "\n",
        "logging.basicConfig(filename=\"file_errors.log\", level=logging.ERROR)\n",
        "try:\n",
        "    with open(\"nonexistent.txt\", \"r\") as file:\n",
        "        print(file.read())\n",
        "except Exception as e:\n",
        "    logging.error(f\"Error reading file: {e}\")\n",
        "'''"
      ],
      "metadata": {
        "colab": {
          "base_uri": "https://localhost:8080/",
          "height": 53
        },
        "id": "zcBPdPdQrFX7",
        "outputId": "2e433272-d350-4837-a52c-43b6400a503c"
      },
      "execution_count": 26,
      "outputs": [
        {
          "output_type": "execute_result",
          "data": {
            "text/plain": [
              "'\\nimport logging\\n\\nlogging.basicConfig(filename=\"file_errors.log\", level=logging.ERROR)\\ntry:\\n    with open(\"nonexistent.txt\", \"r\") as file:\\n        print(file.read())\\nexcept Exception as e:\\n    logging.error(f\"Error reading file: {e}\")\\n'"
            ],
            "application/vnd.google.colaboratory.intrinsic+json": {
              "type": "string"
            }
          },
          "metadata": {},
          "execution_count": 26
        }
      ]
    }
  ]
}